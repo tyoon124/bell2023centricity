{
 "cells": [
  {
   "cell_type": "markdown",
   "id": "5a9968e3",
   "metadata": {},
   "source": [
    "# README (Supporting Codes and Information)\n",
    "\n",
    "This README file describes all codes in this directory. All codes contain minimum reproducible examples to show how to use codes and data presented in the article \"What is a centric factor?\" by Yoon and Bell."
   ]
  },
  {
   "cell_type": "markdown",
   "id": "22c91b42",
   "metadata": {},
   "source": [
    "## Estimation of the criticality (EstimateCriticality.py)\n",
    "\n",
    "This script contains examples to use the flat top proposal for estimating the critical temperature of square-well fluids. The pressure-temperature-density data are written in the EstimateCriticalitySW.ods file.\n",
    "\n",
    "**Example 1 Critical Temperature Estimation (Square-well fluids)**\n",
    "\n",
    "This example shows how to use the flat top proposal to estimate the critical temperatures of square-well fluids.\n",
    "\n",
    "**Example 2 Critical Density Estimation (Argon, using the pressrun data from LAMMPS simulations)**\n",
    "\n",
    "This example shows how to use the flat top proposal to estimate the critical density. Specifically, the critical density is estimated by fitting a cubic polynomial to the near-critical pressure-density data. Or, a univariate spline curve can be constructed and differentiated to locate where the second derivative of the pressure with regard to the density is zero.\n",
    "\n",
    "For the demonstration, *pressrun.out* files at different temperatures and pressures (two-body *ab initio* argon model) are included in the folder *argon-Example*."
   ]
  },
  {
   "cell_type": "markdown",
   "id": "61ae880e",
   "metadata": {},
   "source": [
    "## Two-Phase Molecular Simulations (2PMD-2PMC-Example.py)\n",
    "\n",
    "The two-phase molecular simulations (both 2PMD and 2PMC) are performed to calculate the acentric factors of square-well and centric fluids.\n",
    "\n",
    "The *boxit* and *diffvec* are auxiliary functions that calculate the vector difference and the location of particles under the periodic boundary conditions. The *StillingerCluster* function calculates how many (liquid) clusters are formed so that the liquid phase is located at the center of the simulation box.\n",
    "\n",
    "### 2PMC code\n",
    "1. The simulation data generated from Towhee Monte Carlo simulations are loaded. \n",
    "2. The liquid phase is located at the center of the simulation box. \n",
    "3. A histogram of the number of molecules along the *z* direction is constructed to calculate the density as a function of the simulation box along the *z* direction.\n",
    "\n",
    "### 2PMD code\n",
    "The basic methodology is identical to the 2PMC code, but the dump file generated in LAMMPS is used."
   ]
  },
  {
   "cell_type": "markdown",
   "id": "e8a76cf6",
   "metadata": {},
   "source": [
    "## Sastry-Bieshaar algorithm (Sastry-Bieshaar.py)\n",
    "\n",
    "The Sastry-Bieshaar algorithm proposed in this work employs an analytical procedure proposed by Sastry et al. The algorithm was originally implemented by Alexey Anikeenko (https://github.com/a-anik). The algorithm should be installed before the use of this python script. The CGAL (Computational Geometry Algorithms Library), Boost, and CMake are also required.\n",
    "\n",
    "If a user cannot find a suitable way to use the implemented protocol, any algorithms calculating the probe-accessible volume can be used instead.\n",
    "\n",
    "The class *Widom* inserts hard test particle(s) for \"trials\" times to the given trajectory data. The trajectory data should be provided, which are generated from any molecular simulations. This class is used to compare the ordinary Widom insertion results and the Sastry-Bieshaar method.\n",
    "\n",
    "The auxiliary functions *mureshs, pHS, pCS, vresHS, PinsHS, and zHS* are implemented to calculate the insertion probability of hard-sphere systems based on the Carnahan-Starling Equation of States.\n",
    "\n",
    "An auxiliary function *ReaddynamoHS* is implemented to load the trajectory data generated in the DynamO software.\n",
    "\n",
    "The class *CavityVol* implements a wrapper fopr the Sastry protocol (*cavity-volumes-pbc* program) to calculate the probe-accessible volume analytically.\n",
    "\n",
    "The class *Bieshaar* implements the MC protocol to do the insertion at the Voronoi vertices so that the number of trials required for the successful insertion is significantly reduced.\n",
    "\n",
    "For the demonstration, we include a numpy array that contains a short EDMD simulation run of 2,048 hard-sphere particles (11 snapshots). The user can see how to use the Sastry-Bieshaar.py in *Sastry-Bieshaar-Example.py* file."
   ]
  },
  {
   "cell_type": "markdown",
   "id": "f45cdb0d",
   "metadata": {},
   "source": [
    "## Sastry-Bieshaar-Example.py\n",
    "\n",
    "This python script shows how to use the Sastry algorithm for calculating the dimensionless excess chemical potential of a hard-sphere system. As an example, eleven snapshots of the hard-sphere simulation at the number density of 0.4 are included (*HS-d40-trajectory.npz*).\n",
    "\n",
    "In the first part of the simulation code, the insertion probabilities are calculated. If a user successfully installed the Sastry algorithm, the calculation results should be as follows.\n",
    "\n",
    "Probe-accessible volume fraction: 0.06980043086829493\n",
    "Probe-accessible volume fraction: 0.07071612505630202\n",
    "Probe-accessible volume fraction: 0.07334060088442557\n",
    "Probe-accessible volume fraction: 0.07041735727010685\n",
    "Probe-accessible volume fraction: 0.0690336575775024\n",
    "Probe-accessible volume fraction: 0.0695950311106599\n",
    "Probe-accessible volume fraction: 0.07006416156609764\n",
    "Probe-accessible volume fraction: 0.06705388871391552\n",
    "Probe-accessible volume fraction: 0.06977894837618775\n",
    "Probe-accessible volume fraction: 0.07030957911169733\n",
    "Probe-accessible volume fraction: 0.06913280975617722\n",
    "\n",
    "The dimensionless excess chemical potential of a hard-sphere system is calculated as follows.\n",
    "\n",
    "$$\\frac{\\mu^\\mathrm{exc}}{k_\\mathrm{B}T}=-\\ln\\langle P_\\mathrm{ins}\\rangle$$\n",
    "\n",
    "where $P_\\mathrm{ins}$ is the insertion probability defined as the ratio between the probe-accessible volume and the total system volume. Thus, from the Sastry algorithm, the dimensionless excess chemical potential is calculated as 2.6602441700051616.\n",
    "\n",
    "The second part of the script prints the excess chemical potential calculated from the Carnahan-Starling Equations of State; the auxiliary function *mureshs* in the Sastry-Bieshaar module is used. \n",
    "\n",
    "The result is 2.6478886280444454, which is comparable to that obtained from the Sastry method, considering that only eleven snapshots were used."
   ]
  },
  {
   "cell_type": "markdown",
   "id": "ae76f890",
   "metadata": {},
   "source": [
    "## AcentricFactor-Excess-Entropy-Example.py\n",
    "\n",
    "This example code shows how to use the CoolProp library for examining the relationship between the acentric factor and the excess entropy at the gas-liquid critical point. Since the REFPROP library is not free, the CoolProp library was used instead."
   ]
  },
  {
   "cell_type": "markdown",
   "id": "0cb9d4ec",
   "metadata": {},
   "source": [
    "## ThermodynamicAnalysis-Example.py\n",
    "\n",
    "This python script contains the *ReadLAMMPS* function (an auxiliary function to load the trajectory data generated in LAMMPS), *CavityVol* and *Bieshaar* functions (see the description of *Sastry-Bieshaar.py* script), *exp* function (an auxiliary function to calculate the exponential of a number), *TangToennies* class for calculating the second virial coefficient B<sub>2</sub>. \n",
    "\n",
    "All these functions are used to dissect the entropy into different contributions, following the protocol described below.\n",
    "\n",
    "### Step 1 Calculating s<sup>+</sup> of the *ab initio* Ar model.\n",
    "\n",
    "We calculate the entropy of *ab initio* Ar utilizing the Deiters-Hoheisel method. The data required for executing this script are included in the directory *argon-Example*. \n",
    "\n",
    "1. The *ab initio* potential is first constructed based on the code provided by Bell. \n",
    "2. The simulation results provided in the directory *argon-Example* (pressrun.out and energyrun.out files) are used to calculate the excess thermodynamic properties (excess internal energy *eexcs* and excess enthalpy *hexcs*, and compressibility factor *Z*).\n",
    "3. The second virial coefficient is calculated from the *ab initio* potential.\n",
    "4. A univariate spline function is constructed for the data *(Z-1)/d* where Z is the compressibility factor and *d* is the number density.\n",
    "5. The spline function is integrated to calculate the excess Gibbs free energy (chemical potential)\n",
    "6. The excess entropy is calculated based on the fundamental equation of thermodynamics.\n",
    "\n",
    "### Step 2 Calculating s<sup>+</sup> of the WCA *ab initio* Ar model.\n",
    "\n",
    "We calculate the entropy of Weeks-Chandler-Andersen (WCA) version of the *ab initio* Ar potential. The Deiters-Hoheisel method used in **Step 1** is used, replacing the pressure and energy data of the original *ab initio* potential model with those from the Weeks-Chandler-Andersen version of the *ab initio* potential.\n",
    "\n",
    "### Step 3 Calculating *d*<sub>hs</sub>\n",
    "\n",
    "The effective hard-sphere diameter *d*<sub>hs</sub> is calculated based on the proposals by Jakse and Dyre et al.\n",
    "\n",
    "1. An auxiliary function *splusHS* is defined to calculate the hard-sphere excess entropy.\n",
    "2. We calculate the packing fraction that makes the hard-sphere entropy calculated from the function *splusHS* equal to the excess entropy from Step 2. The *brentq* function in the SciPy Optimize package is used.\n",
    "3. From the packing fraction, the hard-sphere diameter *d*<sub>hs</sub> is calculated.\n",
    "\n",
    "### Step 4 Calculating structural and field contributions to the s<sup>+</sup> value\n",
    "\n",
    "The last step for calculating the field contribution and the structural contribution is commented, since this requires a long trajectory file. The calculation protocol is as follows.\n",
    "\n",
    "1. Calculate the structural contribution using the *CavityVol* function.\n",
    "2. Calculate the field contribution."
   ]
  },
  {
   "cell_type": "markdown",
   "id": "07529ec3",
   "metadata": {},
   "source": [
    "## Two-body-excess.py\n",
    "\n",
    "This python script contains the function to calculate the two-body excess entropy from the radial distribution function *g(r)*. The *g(r)$ data of the square well fluid with the well width of 2.5 are included as an example.\n",
    "\n",
    "Since there is a discontinuity in the discrete potential result, we need to extrapolate the radial distribution function to the discontinuity point (*r=2.5* in this example). The univariate spline function is used for the extrapolation."
   ]
  }
 ],
 "metadata": {
  "kernelspec": {
   "display_name": "Python 3 (ipykernel)",
   "language": "python",
   "name": "python3"
  },
  "language_info": {
   "codemirror_mode": {
    "name": "ipython",
    "version": 3
   },
   "file_extension": ".py",
   "mimetype": "text/x-python",
   "name": "python",
   "nbconvert_exporter": "python",
   "pygments_lexer": "ipython3",
   "version": "3.9.7"
  }
 },
 "nbformat": 4,
 "nbformat_minor": 5
}
